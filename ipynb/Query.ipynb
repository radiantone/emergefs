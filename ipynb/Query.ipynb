{
 "cells": [
  {
   "cell_type": "code",
   "execution_count": 4,
   "id": "27e7fc2f",
   "metadata": {},
   "outputs": [
    {
     "name": "stdout",
     "output_type": "stream",
     "text": [
      "[InventoryItem(id='widget1', data='A widget1 data', date='May 25 2023 06:34:11', name='widget1', path='/inventory', perms='rwxrwxrwx', type='file', uuid='91395b93-16a8-42e6-b6c4-4131d7c83663', node='broker', version=0, unit_price=12.489224213412108, quantity_on_hand=28, totalcost=0.0)]\n"
     ]
    }
   ],
   "source": [
    "from emerge import fs\n",
    "\n",
    "results = fs.query(\"/queries/query1\")\n",
    "print(results)\n"
   ]
  },
  {
   "cell_type": "code",
   "execution_count": 6,
   "id": "53e8a0ee",
   "metadata": {},
   "outputs": [
    {
     "name": "stdout",
     "output_type": "stream",
     "text": [
      "[{'id': 'widget1', 'data': 'A widget1 data', 'date': 'May 25 2023 06:34:11', 'name': 'widget1', 'path': '/inventory', 'perms': 'rwxrwxrwx', 'type': 'file', 'uuid': '91395b93-16a8-42e6-b6c4-4131d7c83663', 'node': 'broker', 'version': 0, 'unit_price': 12.489224213412108, 'quantity_on_hand': 28, 'totalcost': 0.0}]\n"
     ]
    }
   ],
   "source": [
    "from emerge import fs\n",
    "\n",
    "results = fs.search(lambda o: hasattr(o, \"unit_price\") and o.unit_price < 13.5)\n",
    "print(results)\n"
   ]
  },
  {
   "cell_type": "code",
   "execution_count": null,
   "id": "2aa1ff3e",
   "metadata": {},
   "outputs": [],
   "source": []
  }
 ],
 "metadata": {
  "kernelspec": {
   "display_name": "Python 3 (ipykernel)",
   "language": "python",
   "name": "python3"
  },
  "language_info": {
   "codemirror_mode": {
    "name": "ipython",
    "version": 3
   },
   "file_extension": ".py",
   "mimetype": "text/x-python",
   "name": "python",
   "nbconvert_exporter": "python",
   "pygments_lexer": "ipython3",
   "version": "3.10.6"
  }
 },
 "nbformat": 4,
 "nbformat_minor": 5
}
